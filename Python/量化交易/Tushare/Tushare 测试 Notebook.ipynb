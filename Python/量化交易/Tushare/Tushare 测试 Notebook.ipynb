{
 "cells": [
  {
   "cell_type": "markdown",
   "metadata": {},
   "source": [
    "## Tushare 获取Shibor数据分析"
   ]
  },
  {
   "cell_type": "code",
   "execution_count": 24,
   "metadata": {
    "collapsed": true
   },
   "outputs": [],
   "source": [
    "import tushare as ts\n",
    "import matplotlib.pyplot as plt"
   ]
  },
  {
   "cell_type": "code",
   "execution_count": 3,
   "metadata": {},
   "outputs": [
    {
     "name": "stdout",
     "output_type": "stream",
     "text": [
      "         date      ON      1W      2W      1M      3M      6M      9M      1Y\n",
      "0  2018-01-02  2.6570  2.8390  3.9430  4.7430  4.8040  4.8310  4.7150  4.7470\n",
      "1  2018-01-03  2.5635  2.7850  3.8700  4.6220  4.7300  4.7830  4.7110  4.7360\n",
      "2  2018-01-04  2.5050  2.7600  3.8020  4.4760  4.6870  4.7380  4.7020  4.7286\n",
      "3  2018-01-05  2.4840  2.7450  3.7490  4.3756  4.6637  4.7118  4.6990  4.7249\n",
      "4  2018-01-08  2.4610  2.7370  3.7200  4.2886  4.6594  4.7052  4.6989  4.7200\n",
      "5  2018-01-09  2.5290  2.7440  3.6980  4.2209  4.6570  4.7026  4.6970  4.7200\n",
      "6  2018-01-10  2.6430  2.7760  3.7060  4.1821  4.6607  4.6990  4.6970  4.7200\n",
      "7  2018-01-11  2.8320  2.8320  3.7760  4.1632  4.6701  4.7049  4.7017  4.7230\n",
      "8  2018-01-12  2.8300  2.8640  3.8080  4.1134  4.6791  4.7085  4.7052  4.7233\n",
      "9  2018-01-15  2.7940  2.8600  3.8160  4.0904  4.6830  4.7139  4.7116  4.7253\n",
      "10 2018-01-16  2.7850  2.8790  3.8280  4.0941  4.6843  4.7124  4.7142  4.7296\n",
      "11 2018-01-17  2.7650  2.8780  3.8370  4.0905  4.6935  4.7133  4.7165  4.7320\n",
      "12 2018-01-18  2.7655  2.8780  3.8430  4.0921  4.7044  4.7154  4.7237  4.7332\n",
      "13 2018-01-19  2.8360  2.8910  3.8460  4.1113  4.7115  4.7216  4.7274  4.7384\n",
      "14 2018-01-22  2.7710  2.8890  3.8540  4.1122  4.7122  4.7272  4.7318  4.7429\n",
      "15 2018-01-23  2.6020  2.8630  3.8600  4.1123  4.7163  4.7278  4.7322  4.7423\n",
      "16 2018-01-24  2.5740  2.8320  3.8630  4.1183  4.7267  4.7268  4.7323  4.7423\n",
      "17 2018-01-25  2.5634  2.8498  3.8600  4.1269  4.7317  4.7297  4.7333  4.7423\n",
      "18 2018-01-26  2.5506  2.8420  3.8600  4.1257  4.7292  4.7270  4.7324  4.7423\n",
      "19 2018-01-29  2.5660  2.8420  3.8630  4.1276  4.7270  4.7287  4.7303  4.7423\n",
      "20 2018-01-30  2.5540  2.8380  3.8580  4.1288  4.7267  4.7299  4.7311  4.7423\n",
      "21 2018-01-31  2.5940  2.8298  3.8552  4.1289  4.7257  4.7300  4.7312  4.7423\n",
      "22 2018-02-01  2.5154  2.7925  3.8642  4.1329  4.7276  4.7320  4.7332  4.7463\n",
      "23 2018-02-02  2.5173  2.7880  3.8670  4.1293  4.7278  4.7322  4.7314  4.7457\n",
      "24 2018-02-05  2.5305  2.7758  3.8720  4.1070  4.7258  4.7323  4.7302  4.7446\n",
      "25 2018-02-06  2.5390  2.7706  3.8750  4.0887  4.7206  4.7313  4.7321  4.7465\n",
      "26 2018-02-07  2.5710  2.7710  3.8830  4.0809  4.7070  4.7302  4.7323  4.7450\n",
      "27 2018-02-08  2.5720  2.9040  3.8850  4.0780  4.6960  4.7291  4.7313  4.7455\n",
      "28 2018-02-09  2.5890  2.9180  3.8920  4.0740  4.6936  4.7290  4.7312  4.7456\n",
      "29 2018-02-11  2.6080  2.9170  3.9080  4.0694  4.6974  4.7289  4.7312  4.7456\n",
      "..        ...     ...     ...     ...     ...     ...     ...     ...     ...\n",
      "55 2018-03-23  2.5450  2.8464  3.8550  4.4364  4.6489  4.7005  4.7133  4.7248\n",
      "56 2018-03-26  2.5430  2.8620  3.8550  4.4094  4.6351  4.6925  4.7088  4.7233\n",
      "57 2018-03-27  2.5935  2.8740  3.8645  4.3906  4.6239  4.6606  4.7043  4.7188\n",
      "58 2018-03-28  2.5920  2.8890  3.8655  4.3421  4.6174  4.6656  4.6999  4.7148\n",
      "59 2018-03-29  2.5810  2.8958  3.8710  4.3133  4.5247  4.6053  4.6405  4.6780\n",
      "60 2018-03-30  2.6900  2.9166  3.8810  4.2884  4.4615  4.5686  4.6021  4.6508\n",
      "61 2018-04-02  2.6220  2.8830  3.8465  4.1879  4.4052  4.5309  4.5623  4.6250\n",
      "62 2018-04-03  2.5740  2.8700  3.8370  4.1268  4.3506  4.4931  4.5313  4.6033\n",
      "63 2018-04-04  2.4690  2.8300  3.7810  4.0597  4.3101  4.4740  4.5112  4.5800\n",
      "64 2018-04-08  2.4460  2.8120  3.7430  4.0110  4.2781  4.4424  4.4852  4.5590\n",
      "65 2018-04-09  2.5280  2.8060  3.7170  3.9701  4.2579  4.4140  4.4726  4.5489\n",
      "66 2018-04-10  2.5510  2.8070  3.6930  3.9150  4.2290  4.3940  4.4666  4.5420\n",
      "67 2018-04-11  2.5610  2.8040  3.6840  3.8710  4.2090  4.3800  4.4590  4.5380\n",
      "68 2018-04-12  2.5570  2.8000  3.6740  3.8420  4.1990  4.3670  4.4530  4.5360\n",
      "69 2018-04-13  2.5570  2.7980  3.6710  3.8250  4.1790  4.3560  4.4510  4.5350\n",
      "70 2018-04-16  2.5820  2.8020  3.6760  3.8210  4.1730  4.3510  4.4480  4.5340\n",
      "71 2018-04-17  2.6650  2.8430  3.7150  3.8340  4.1740  4.3510  4.4440  4.5370\n",
      "72 2018-04-18  2.6790  2.8580  3.7480  3.8210  4.1030  4.3130  4.4150  4.5000\n",
      "73 2018-04-19  2.7330  2.8840  3.7820  3.7910  4.0500  4.2750  4.3780  4.4480\n",
      "74 2018-04-20  2.7470  2.8930  3.8000  3.7610  4.0170  4.2380  4.3530  4.4190\n",
      "75 2018-04-23  2.7240  2.9000  3.8070  3.7510  4.0040  4.2110  4.3360  4.4090\n",
      "76 2018-04-24  2.7360  2.9070  3.8190  3.7480  3.9910  4.1930  4.3260  4.3940\n",
      "77 2018-04-25  2.7280  2.9110  3.8210  3.7800  3.9840  4.1850  4.3170  4.3800\n",
      "78 2018-04-26  2.7650  2.9250  3.8280  3.8650  3.9920  4.1830  4.3150  4.3830\n",
      "79 2018-04-27  2.9210  2.9780  3.8600  3.8990  4.0070  4.1840  4.3130  4.3850\n",
      "80 2018-04-28  2.8240  2.9720  3.8680  3.9000  4.0050  4.1800  4.3090  4.3820\n",
      "81 2018-05-02  2.7200  2.8920  3.8240  3.8930  4.0030  4.1740  4.3060  4.3760\n",
      "82 2018-05-03  2.6810  2.8520  3.7830  3.8700  3.9930  4.1620  4.2960  4.3640\n",
      "83 2018-05-04  2.5940  2.8060  3.7353  3.8510  3.9930  4.1540  4.2910  4.3570\n",
      "84 2018-05-07  2.5820  2.7680  3.6920  3.8400  3.9943  4.1500  4.2850  4.3490\n",
      "\n",
      "[85 rows x 9 columns]\n"
     ]
    },
    {
     "name": "stderr",
     "output_type": "stream",
     "text": [
      "D:\\ProgramData\\Anaconda3\\lib\\site-packages\\pandas\\core\\internals.py:3224: FutureWarning: Passing in 'datetime64' dtype with no frequency is deprecated and will raise in a future version. Please pass in 'datetime64[ns]' instead.\n",
      "  return self.apply('astype', dtype=dtype, **kwargs)\n"
     ]
    }
   ],
   "source": [
    "df_2018 = ts.shibor_data(2018)\n",
    "print(df_2018)"
   ]
  },
  {
   "cell_type": "code",
   "execution_count": 45,
   "metadata": {},
   "outputs": [
    {
     "data": {
      "image/png": "[encoded data removed]",
      "text/plain": [
       "<matplotlib.figure.Figure at 0x1fd610d6d30>"
      ]
     },
     "metadata": {},
     "output_type": "display_data"
    }
   ],
   "source": [
    "# unit_test\n",
    "dataX = df_2018['date']\n",
    "dataON = df_2018['ON']\n",
    "data1W = df_2018['1W']\n",
    "data2W = df_2018['2W']\n",
    "data1M = df_2018['1M']\n",
    "plt.figure(1)\n",
    "plt.subplot()\n",
    "plt.plot(dataX, dataON, 'r', label=\"ON\")\n",
    "# plt.subplot()\n",
    "plt.plot(dataX, data1W, 'b', label=\"1W\")\n",
    "plt.plot(dataX, data2W, 'y', label=\"2W\")\n",
    "plt.plot(dataX, data1M, 'g', label=\"1M\")\n",
    "plt.show()"
   ]
  },
  {
   "cell_type": "code",
   "execution_count": 35,
   "metadata": {
    "collapsed": true
   },
   "outputs": [],
   "source": [
    "plt.subplot?"
   ]
  },
  {
   "cell_type": "markdown",
   "metadata": {},
   "source": [
    "## Tushare 分析股票"
   ]
  },
  {
   "cell_type": "code",
   "execution_count": 47,
   "metadata": {
    "collapsed": true
   },
   "outputs": [],
   "source": [
    "import tushare as ts\n",
    "import matplotlib.pyplot as plt"
   ]
  },
  {
   "cell_type": "code",
   "execution_count": 54,
   "metadata": {},
   "outputs": [],
   "source": [
    "df_stock_bas = ts.get_stock_basics()"
   ]
  },
  {
   "cell_type": "code",
   "execution_count": 56,
   "metadata": {},
   "outputs": [],
   "source": [
    "chk_list = "
   ]
  },
  {
   "cell_type": "code",
   "execution_count": 57,
   "metadata": {},
   "outputs": [
    {
     "data": {
      "text/html": [
       "<div>\n",
       "<style>\n",
       "    .dataframe thead tr:only-child th {\n",
       "        text-align: right;\n",
       "    }\n",
       "\n",
       "    .dataframe thead th {\n",
       "        text-align: left;\n",
       "    }\n",
       "\n",
       "    .dataframe tbody tr th {\n",
       "        vertical-align: top;\n",
       "    }\n",
       "</style>\n",
       "<table border=\"1\" class=\"dataframe\">\n",
       "  <thead>\n",
       "    <tr style=\"text-align: right;\">\n",
       "      <th></th>\n",
       "      <th>name</th>\n",
       "      <th>industry</th>\n",
       "      <th>area</th>\n",
       "      <th>pe</th>\n",
       "      <th>outstanding</th>\n",
       "      <th>totals</th>\n",
       "      <th>totalAssets</th>\n",
       "      <th>liquidAssets</th>\n",
       "      <th>fixedAssets</th>\n",
       "      <th>reserved</th>\n",
       "      <th>...</th>\n",
       "      <th>bvps</th>\n",
       "      <th>pb</th>\n",
       "      <th>timeToMarket</th>\n",
       "      <th>undp</th>\n",
       "      <th>perundp</th>\n",
       "      <th>rev</th>\n",
       "      <th>profit</th>\n",
       "      <th>gpr</th>\n",
       "      <th>npr</th>\n",
       "      <th>holders</th>\n",
       "    </tr>\n",
       "    <tr>\n",
       "      <th>code</th>\n",
       "      <th></th>\n",
       "      <th></th>\n",
       "      <th></th>\n",
       "      <th></th>\n",
       "      <th></th>\n",
       "      <th></th>\n",
       "      <th></th>\n",
       "      <th></th>\n",
       "      <th></th>\n",
       "      <th></th>\n",
       "      <th></th>\n",
       "      <th></th>\n",
       "      <th></th>\n",
       "      <th></th>\n",
       "      <th></th>\n",
       "      <th></th>\n",
       "      <th></th>\n",
       "      <th></th>\n",
       "      <th></th>\n",
       "      <th></th>\n",
       "      <th></th>\n",
       "    </tr>\n",
       "  </thead>\n",
       "  <tbody>\n",
       "    <tr>\n",
       "      <th>300156</th>\n",
       "      <td>神雾环保</td>\n",
       "      <td>环境保护</td>\n",
       "      <td>北京</td>\n",
       "      <td>0.0</td>\n",
       "      <td>7.22</td>\n",
       "      <td>10.1</td>\n",
       "      <td>696083.25</td>\n",
       "      <td>626789.69</td>\n",
       "      <td>14138.57</td>\n",
       "      <td>35107.55</td>\n",
       "      <td>...</td>\n",
       "      <td>2.69</td>\n",
       "      <td>3.92</td>\n",
       "      <td>20110107</td>\n",
       "      <td>127526.76</td>\n",
       "      <td>1.26</td>\n",
       "      <td>-90.06</td>\n",
       "      <td>-158.15</td>\n",
       "      <td>34.39</td>\n",
       "      <td>-89.06</td>\n",
       "      <td>74647.0</td>\n",
       "    </tr>\n",
       "  </tbody>\n",
       "</table>\n",
       "<p>1 rows × 22 columns</p>\n",
       "</div>"
      ],
      "text/plain": [
       "        name industry area   pe  outstanding  totals  totalAssets  \\\n",
       "code                                                                \n",
       "300156  神雾环保     环境保护   北京  0.0         7.22    10.1    696083.25   \n",
       "\n",
       "        liquidAssets  fixedAssets  reserved   ...     bvps    pb  \\\n",
       "code                                          ...                  \n",
       "300156     626789.69     14138.57  35107.55   ...     2.69  3.92   \n",
       "\n",
       "        timeToMarket       undp  perundp    rev  profit    gpr    npr  holders  \n",
       "code                                                                            \n",
       "300156      20110107  127526.76     1.26 -90.06 -158.15  34.39 -89.06  74647.0  \n",
       "\n",
       "[1 rows x 22 columns]"
      ]
     },
     "execution_count": 57,
     "metadata": {},
     "output_type": "execute_result"
    }
   ],
   "source": [
    "chk_list"
   ]
  }
 ],
 "metadata": {
  "kernelspec": {
   "display_name": "Python 3",
   "language": "python",
   "name": "python3"
  },
  "language_info": {
   "codemirror_mode": {
    "name": "ipython",
    "version": 3
   },
   "file_extension": ".py",
   "mimetype": "text/x-python",
   "name": "python",
   "nbconvert_exporter": "python",
   "pygments_lexer": "ipython3",
   "version": "3.6.1"
  }
 },
 "nbformat": 4,
 "nbformat_minor": 2
}
