{
 "cells": [
  {
   "cell_type": "code",
   "execution_count": 1,
   "metadata": {
    "collapsed": false
   },
   "outputs": [
    {
     "name": "stderr",
     "output_type": "stream",
     "text": [
      "E\n",
      "======================================================================\n",
      "ERROR: C:\\Users\\ZBIN\\AppData\\Roaming\\jupyter\\runtime\\kernel-71e4ec12-4f97-4bcf-b49e-afc33654ef30 (unittest.loader._FailedTest)\n",
      "----------------------------------------------------------------------\n",
      "AttributeError: module '__main__' has no attribute 'C:\\Users\\ZBIN\\AppData\\Roaming\\jupyter\\runtime\\kernel-71e4ec12-4f97-4bcf-b49e-afc33654ef30'\n",
      "\n",
      "----------------------------------------------------------------------\n",
      "Ran 1 test in 0.008s\n",
      "\n",
      "FAILED (errors=1)\n"
     ]
    },
    {
     "ename": "SystemExit",
     "evalue": "True",
     "output_type": "error",
     "traceback": [
      "An exception has occurred, use %tb to see the full traceback.\n",
      "\u001b[0;31mSystemExit\u001b[0m\u001b[0;31m:\u001b[0m True\n"
     ]
    },
    {
     "name": "stderr",
     "output_type": "stream",
     "text": [
      "D:\\ProgramData\\Anaconda3\\lib\\site-packages\\IPython\\core\\interactiveshell.py:2889: UserWarning: To exit: use 'exit', 'quit', or Ctrl-D.\n",
      "  warn(\"To exit: use 'exit', 'quit', or Ctrl-D.\", stacklevel=1)\n"
     ]
    }
   ],
   "source": [
    "#!/usr/bin/env python\n",
    "\n",
    "\n",
    "from pandas import DataFrame, read_csv\n",
    "import matplotlib.pyplot as plt\n",
    "import pandas as pd\n",
    "import sys\n",
    "import os\n",
    "import matplotlib\n",
    "import numpy as np\n",
    "    \n",
    "\n",
    "def test_L1(self):\n",
    "    # create data\n",
    "    names = ['Bob', 'Jessica', 'Mary', 'John', 'Mel']\n",
    "    births = [968, 155, 77, 578, 973]\n",
    "    df = pd.DataFrame(list(zip(names, births)), columns=['Names', 'Births'], index=range(1, len(names)+1))\n",
    "    #df = pd.DataFrame(list(zip(names, births)),  index=range(1, len(names)+1))\n",
    "    print(df)\n",
    "    print('df.dtypes:\\n' + str(df.dtypes))\n",
    "    print('type of df.Names', type(df.Names))\n",
    "    print('-'*20)\n",
    "   # just for test      \n",
    "    df2 = pd.DataFrame(np.random.randn(10,5), columns=['a', 'b', 'c', 'd', 'e'], index=range(1, 11))\n",
    "    #print(df2)\n",
    "    csv_file = 'births1880.csv'\n",
    "    df.to_csv(csv_file, index=False, header=False)\n",
    "    df3 = pd.read_csv(csv_file, names=['name', 'births'])\n",
    "    print(df3)\n",
    "    print('-'*20)\n",
    "    os.remove(csv_file)\n",
    "    \n",
    "    Sorted = df.sort_values(['Births'], ascending=False)\n",
    "    print(Sorted.head())\n",
    "    df['Births'].plot()\n",
    "    # Maximum value in the data set\n",
    "    MaxValue = df['Births'].max()\n",
    "   # Name associated with the maximum value\n",
    "    MaxName = df['Names'][df['Births'] == df['Births'].max()].values\n",
    "   \n",
    "   # Text to display on graph\n",
    "    Text = str(MaxValue) + \" - \" + MaxName\n",
    "   \n",
    "   # Add text to graph\n",
    "    plt.annotate(Text, xy=(2, MaxValue), xytext=(8, 0), \n",
    "                    xycoords=('axes fraction', 'data'), textcoords='offset points')\n",
    "   \n",
    "    print(\"The most popular name\")\n",
    "    df[df['Births'] == df['Births'].max()] def test_L1(self):\n",
    "    # create data\n",
    "    names = ['Bob', 'Jessica', 'Mary', 'John', 'Mel']\n",
    "    births = [968, 155, 77, 578, 973]\n",
    "    df = pd.DataFrame(list(zip(names, births)), columns=['Names', 'Births'], index=range(1, len(names)+1))\n",
    "    #df = pd.DataFrame(list(zip(names, births)),  index=range(1, len(names)+1))\n",
    "    print(df)\n",
    "    print('df.dtypes:\\n' + str(df.dtypes))\n",
    "    print('type of df.Names', type(df.Names))\n",
    "    print('-'*20)\n",
    "   # just for test      \n",
    "    df2 = pd.DataFrame(np.random.randn(10,5), columns=['a', 'b', 'c', 'd', 'e'], index=range(1, 11))\n",
    "    #print(df2)\n",
    "    csv_file = 'births1880.csv'\n",
    "    df.to_csv(csv_file, index=False, header=False)\n",
    "    df3 = pd.read_csv(csv_file, names=['name', 'births'])\n",
    "    print(df3)\n",
    "    print('-'*20)\n",
    "    os.remove(csv_file)\n",
    "    \n",
    "    Sorted = df.sort_values(['Births'], ascending=False)\n",
    "    print(Sorted.head())\n",
    "    df['Births'].plot()\n",
    "    # Maximum value in the data set\n",
    "    MaxValue = df['Births'].max()\n",
    "   # Name associated with the maximum value\n",
    "    MaxName = df['Names'][df['Births'] == df['Births'].max()].values\n",
    "   \n",
    "   # Text to display on graph\n",
    "    Text = str(MaxValue) + \" - \" + MaxName\n",
    "   \n",
    "   # Add text to graph\n",
    "    plt.annotate(Text, xy=(2, MaxValue), xytext=(8, 0), \n",
    "                    xycoords=('axes fraction', 'data'), textcoords='offset points')\n",
    "   \n",
    "    print(\"The most popular name\")\n",
    "    df[df['Births'] == df['Births'].max()]\n",
    "\n",
    "test_L1()\n"
   ]
  },
  {
   "cell_type": "code",
   "execution_count": null,
   "metadata": {
    "collapsed": true
   },
   "outputs": [],
   "source": []
  }
 ],
 "metadata": {
  "kernelspec": {
   "display_name": "Python 3",
   "language": "python",
   "name": "python3"
  },
  "language_info": {
   "codemirror_mode": {
    "name": "ipython",
    "version": 3
   },
   "file_extension": ".py",
   "mimetype": "text/x-python",
   "name": "python",
   "nbconvert_exporter": "python",
   "pygments_lexer": "ipython3",
   "version": "3.6.0"
  }
 },
 "nbformat": 4,
 "nbformat_minor": 2
}
