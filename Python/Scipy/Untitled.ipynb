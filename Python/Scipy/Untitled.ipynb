{
 "cells": [
  {
   "cell_type": "code",
   "execution_count": 6,
   "metadata": {
    "collapsed": false
   },
   "outputs": [
    {
     "name": "stdout",
     "output_type": "stream",
     "text": [
      "     Names  Births\n",
      "1      Bob     968\n",
      "2  Jessica     155\n",
      "3     Mary      77\n",
      "4     John     578\n",
      "5      Mel     973\n",
      "df.dtypes:\n",
      "Names     object\n",
      "Births     int64\n",
      "dtype: object\n",
      "type of df.Names <class 'pandas.core.series.Series'>\n",
      "--------------------\n",
      "      name  births\n",
      "0      Bob     968\n",
      "1  Jessica     155\n",
      "2     Mary      77\n",
      "3     John     578\n",
      "4      Mel     973\n",
      "--------------------\n",
      "     Names  Births\n",
      "5      Mel     973\n",
      "1      Bob     968\n",
      "4     John     578\n",
      "2  Jessica     155\n",
      "3     Mary      77\n",
      "The most popular name\n"
     ]
    },
    {
     "data": {
      "image/png": "[encoded data removed]",
      "text/plain": [
       "<matplotlib.figure.Figure at 0x13bdd6f8358>"
      ]
     },
     "metadata": {},
     "output_type": "display_data"
    }
   ],
   "source": [
    "#!/usr/bin/env python\n",
    "\n",
    "\n",
    "from pandas import DataFrame, read_csv\n",
    "import matplotlib.pyplot as plt\n",
    "import pandas as pd\n",
    "import sys\n",
    "import os\n",
    "import matplotlib\n",
    "import numpy as np\n",
    "    \n",
    "%matplotlib inline\n",
    "\n",
    "def test_L1():\n",
    "    # create data\n",
    "    names = ['Bob', 'Jessica', 'Mary', 'John', 'Mel']\n",
    "    births = [968, 155, 77, 578, 973]\n",
    "    df = pd.DataFrame(list(zip(names, births)), columns=['Names', 'Births'], index=range(1, len(names)+1))\n",
    "    #df = pd.DataFrame(list(zip(names, births)),  index=range(1, len(names)+1))\n",
    "    print(df)\n",
    "    print('df.dtypes:\\n' + str(df.dtypes))\n",
    "    print('type of df.Names', type(df.Names))\n",
    "    print('-'*20)\n",
    "   # just for test      \n",
    "    df2 = pd.DataFrame(np.random.randn(10,5), columns=['a', 'b', 'c', 'd', 'e'], index=range(1, 11))\n",
    "    #print(df2)\n",
    "    csv_file = 'births1880.csv'\n",
    "    df.to_csv(csv_file, index=False, header=False)\n",
    "    df3 = pd.read_csv(csv_file, names=['name', 'births'])\n",
    "    print(df3)\n",
    "    print('-'*20)\n",
    "    os.remove(csv_file)\n",
    "    \n",
    "    Sorted = df.sort_values(['Births'], ascending=False)\n",
    "    print(Sorted.head())\n",
    "    df['Births'].plot()\n",
    "    # Maximum value in the data set\n",
    "    MaxValue = df['Births'].max()\n",
    "   # Name associated with the maximum value\n",
    "    MaxName = df['Names'][df['Births'] == df['Births'].max()].values\n",
    "   \n",
    "   # Text to display on graph\n",
    "    Text = str(MaxValue) + \" - \" + MaxName\n",
    "   \n",
    "   # Add text to graph\n",
    "    plt.annotate(Text, xy=(2, MaxValue), xytext=(8, 0), \n",
    "                    xycoords=('axes fraction', 'data'), textcoords='offset points')\n",
    "   \n",
    "    print(\"The most popular name\")\n",
    "    df[df['Births'] == df['Births'].max()]\n",
    "test_L1()\n"
   ]
  },
  {
   "cell_type": "code",
   "execution_count": null,
   "metadata": {
    "collapsed": true
   },
   "outputs": [],
   "source": []
  }
 ],
 "metadata": {
  "kernelspec": {
   "display_name": "Python 3",
   "language": "python",
   "name": "python3"
  },
  "language_info": {
   "codemirror_mode": {
    "name": "ipython",
    "version": 3
   },
   "file_extension": ".py",
   "mimetype": "text/x-python",
   "name": "python",
   "nbconvert_exporter": "python",
   "pygments_lexer": "ipython3",
   "version": "3.6.0"
  }
 },
 "nbformat": 4,
 "nbformat_minor": 2
}
