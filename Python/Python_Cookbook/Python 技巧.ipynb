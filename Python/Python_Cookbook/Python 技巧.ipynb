{
 "cells": [
  {
   "cell_type": "markdown",
   "metadata": {},
   "source": [
    "# Jupyter 输出 PDF\n",
    "\n",
    "Jupyter notebook 可以将 .ipynb 转换为 PDF 下载， 但前提是需要安装 Pandoc(Pandoc在不同系统上还有一些依赖要安装)， 我开始以为是直接安装 pandoc 的包， 结果不是， 是要安装 Pandoc 可执行程序"
   ]
  },
  {
   "cell_type": "code",
   "execution_count": null,
   "metadata": {
    "collapsed": true
   },
   "outputs": [],
   "source": []
  }
 ],
 "metadata": {
  "kernelspec": {
   "display_name": "Python 3",
   "language": "python",
   "name": "python3"
  },
  "language_info": {
   "codemirror_mode": {
    "name": "ipython",
    "version": 3
   },
   "file_extension": ".py",
   "mimetype": "text/x-python",
   "name": "python",
   "nbconvert_exporter": "python",
   "pygments_lexer": "ipython3",
   "version": "3.6.1"
  }
 },
 "nbformat": 4,
 "nbformat_minor": 2
}
