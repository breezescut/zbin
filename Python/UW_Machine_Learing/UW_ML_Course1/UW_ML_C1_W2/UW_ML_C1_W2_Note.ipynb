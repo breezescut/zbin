{
 "cells": [
  {
   "cell_type": "markdown",
   "metadata": {},
   "source": [
    "# 零、序言\n",
    "\n",
    "这是 华盛顿大学 机器学习 第二周学习内容笔记。\n",
    "\n",
    "本周课程以西雅图的房价预测下手， 介绍了线性回归， 简略介绍了线性模型在机器学习中的原理， 并直接使用了 Graphlab 的使用。 \n",
    "\n",
    "因为之前也有在 网易公开课 上学习 吴恩达 的机器学习课程， 刚好也学习到 线性回归 ， 对比两门课的区别。 吴恩达的课程更偏向于底层的实现原理介绍， 详细讲解梯度下降等算法； 而华盛顿大学课程则直接上手工具进行解决，只需要知道基本的原理即可操作。学习吴恩达的课程需要比较多的数学知识， 虽然已经尽量简单了， 还是需要一定的数学功底， 毕业多年， 很多数学知识都淡忘了， 虽然最近拼命赶追， 又重新复习和学习了很多线性代数和微积分的知识。学习的资源主要来自以下内容：\n",
    "* [线性代数的本质](https://www.bilibili.com/video/av6731067/)\n",
    "* [微积分的本质](https://www.bilibili.com/video/av10308208/)\n",
    "* [微积分学教程](https://book.douban.com/subject/1707158/)\n",
    "* [线性代数应该这样学](https://book.douban.com/subject/3715623/)\n",
    "\n",
    "除了上述内容， 之前还有接触过其他的一些机器学习的书籍和课程， 罗列如下：\n",
    "* 机器学习基石 这是台湾大学林轩田教授的课程, 从原理推导入手, 难度较高\n",
    "* [机器学习(周志华)](https://book.douban.com/subject/26708119/) 拿来预习和复习原理\n",
    "* [机器学习实战](https://book.douban.com/subject/24703171/) 这本书完全就是教如何用 Python 来实现各种机器学习算法的\n",
    "* [Introduction to Machine Learning with Python]() 本书据说是 Sklearn 作者所写， 内容相对简单， 但暂时未细看\n",
    "* [Hands-On.Machine.Learning.with.Scikit-Learn.and.TensorFlow]()这本书赞誉比较高，看了第一章部分内容\n"
   ]
  },
  {
   "cell_type": "markdown",
   "metadata": {},
   "source": [
    "# 一、计划\n",
    "\n",
    "UW_C1_W2 提出的作业是要用 Graphlab 进行房价预测(基于线性回归模型)，计划分为以下几步：\n",
    "* 使用 Graphlab 按课程要求完成房价预测\n",
    "* 使用 Sklearn 复现同样的房价预测， 比较 GL 和 SK 的算法实现效率（误差）\n",
    "* 学习线性回归模型算法实现，按 **机器学习实战** 内容自行模拟实现一个线性回归模型"
   ]
  },
  {
   "cell_type": "markdown",
   "metadata": {},
   "source": [
    "# 二、Graphlab 实现"
   ]
  },
  {
   "cell_type": "markdown",
   "metadata": {},
   "source": [
    "# 2.1 读入数据\n",
    "\n",
    "数据来源为美国西雅图房价信息， 存放于 \"UW_ML_Course1/UW_ML_C1_W2/home_data.csv\""
   ]
  },
  {
   "cell_type": "code",
   "execution_count": null,
   "metadata": {
    "collapsed": false
   },
   "outputs": [],
   "source": [
    "import graphlab as gl\n",
    "\n",
    "homes = gl.SFrame.read_csv('home_data.csv')"
   ]
  },
  {
   "cell_type": "code",
   "execution_count": null,
   "metadata": {
    "collapsed": false
   },
   "outputs": [],
   "source": [
    "homes.show()"
   ]
  },
  {
   "cell_type": "markdown",
   "metadata": {},
   "source": [
    "## 2.2 切分训练数据集和测试数据集"
   ]
  },
  {
   "cell_type": "code",
   "execution_count": null,
   "metadata": {
    "collapsed": false
   },
   "outputs": [],
   "source": [
    "train_data, test_data = homes.random_split(.8, seed=0)"
   ]
  },
  {
   "cell_type": "code",
   "execution_count": null,
   "metadata": {
    "collapsed": true
   },
   "outputs": [],
   "source": [
    "train_data?"
   ]
  },
  {
   "cell_type": "markdown",
   "metadata": {},
   "source": [
    "## 2.3 选择模型进行训练\n",
    "\n",
    "这里我将创造两个线性模型, 其中一个使用 面积为特征, 对房屋销售价格进行预测.\n",
    "\n",
    "另外一个将使用多个特征进行训练, 完成销售价格预测."
   ]
  },
  {
   "cell_type": "code",
   "execution_count": null,
   "metadata": {
    "collapsed": false
   },
   "outputs": [],
   "source": [
    "# 该模式使用了牛顿迭代法 (加入 study list)\n",
    "sqft_model = gl.linear_regression.create(train_data, target='price', features=['sqft_living'], validation_set=None)"
   ]
  },
  {
   "cell_type": "code",
   "execution_count": null,
   "metadata": {
    "collapsed": false
   },
   "outputs": [],
   "source": [
    "many_features = ['bedrooms', 'bathrooms', 'sqft_living', 'sqft_lot', 'floors', 'zipcode']\n",
    "many_features_model = gl.linear_regression.create(train_data, target='price', features=many_features, validation_set=None)"
   ]
  },
  {
   "cell_type": "markdown",
   "metadata": {},
   "source": [
    "## 2.4 对测试数据集进行评估"
   ]
  },
  {
   "cell_type": "code",
   "execution_count": null,
   "metadata": {
    "collapsed": false
   },
   "outputs": [],
   "source": [
    "print sqft_model.evaluate(test_data)\n",
    "print many_features_model.evaluate(test_data)"
   ]
  },
  {
   "cell_type": "markdown",
   "metadata": {},
   "source": [
    "## 2.5 对房屋售价进行预测\n",
    "\n",
    "课程上的示例是 house1 = sales[sales['id']=='5309101200'] , 但在这里用同样的代码却得不到预期的效果, 使用 house1.dtype 检测后发现 'id' 类型转为 'int' , 而课程示例 'id' 的类型为 string。初判原因是我导入的时候没像课程那样导入‘gl’ 格式的二进制数据， 而是采用了 SFrame.read_csv , SFrame 直接对数据进行解析转换导致的。"
   ]
  },
  {
   "cell_type": "code",
   "execution_count": null,
   "metadata": {
    "collapsed": false
   },
   "outputs": [],
   "source": [
    "house1 = homes[homes['id']==7129300520]"
   ]
  },
  {
   "cell_type": "code",
   "execution_count": null,
   "metadata": {
    "collapsed": false
   },
   "outputs": [],
   "source": [
    "house1"
   ]
  },
  {
   "cell_type": "code",
   "execution_count": null,
   "metadata": {
    "collapsed": false
   },
   "outputs": [],
   "source": [
    "print house1['price'], sqft_model.predict(house1),many_features_model.predict(house1)"
   ]
  },
  {
   "cell_type": "markdown",
   "metadata": {},
   "source": [
    "# 三、Sklearn 实现\n",
    "\n",
    "Sklearn 的实现遇到了一些问题，在尝试 clf.fit 对模型进行训练的时候，爆出错误：\n",
    "```\n",
    "ValueError: Found arrays with inconsistent numbers of samples: [ 1 10]\n",
    "```\n",
    "大概意思就是样本数量不一致， 但检查和多轮调整测试后，状况依然，不确定是否是 pandas.DataFrame 转换成 ndarray 有问题导致的。\n",
    "\n",
    "决定暂停， 先学习一下 sklearn 、NUmpy 和 pandas， 回头再继续。\n",
    "\n",
    "然后，回顾 Udacity ， 发现里面有一章节就是讲述怎么用 sklearn 进行线性回归预测的， 决定先回顾学习一下。然后， 还有吴恩达的课程也要学一下，争取针对线性回归预测内容，学精学透。"
   ]
  },
  {
   "cell_type": "code",
   "execution_count": null,
   "metadata": {
    "collapsed": false
   },
   "outputs": [],
   "source": [
    "from sklearn import linear_model\n",
    "import numpy as np`\n",
    "import pandas as pd"
   ]
  },
  {
   "cell_type": "code",
   "execution_count": null,
   "metadata": {
    "collapsed": true
   },
   "outputs": [],
   "source": [
    "df  = pd.read_csv('home_data.csv')"
   ]
  },
  {
   "cell_type": "code",
   "execution_count": null,
   "metadata": {
    "collapsed": false
   },
   "outputs": [],
   "source": [
    "df.shape"
   ]
  },
  {
   "cell_type": "code",
   "execution_count": null,
   "metadata": {
    "collapsed": false
   },
   "outputs": [],
   "source": [
    "train_sqft_ser = df['sqft_living'][:10]\n",
    "test_sqft_ser = df['sqft_living'][10:]\n",
    "\n",
    "train_price_ser = df['price'][:10]\n",
    "test_price_ser = df['price'][10:]"
   ]
  },
  {
   "cell_type": "code",
   "execution_count": null,
   "metadata": {
    "collapsed": false
   },
   "outputs": [],
   "source": [
    "import numpy as np\n",
    "train_sqft = np.array(train_sqft_ser)\n",
    "train_price = np.array(train_price_ser)\n",
    "\n",
    "test_sqft = np.array(test_sqft_ser)\n",
    "test_price = np.array(test_price_ser)\n"
   ]
  },
  {
   "cell_type": "code",
   "execution_count": null,
   "metadata": {
    "collapsed": false
   },
   "outputs": [],
   "source": [
    "# assert\n",
    "# print train_sqft, train_price\n",
    "train_sqft = numpy.reshape(numpy.array(train_sqft), len())\n",
    "train_price.shape"
   ]
  },
  {
   "cell_type": "code",
   "execution_count": null,
   "metadata": {
    "collapsed": false
   },
   "outputs": [],
   "source": [
    "clf = linear_model.LinearRegression()\n",
    "clf.fit(train_sqft, train_price) # ValueError: Found arrays with inconsistent numbers of samples: [ 1 10]\n",
    "# clf.fit?"
   ]
  },
  {
   "cell_type": "markdown",
   "metadata": {},
   "source": [
    "# 四、自行实现"
   ]
  },
  {
   "cell_type": "code",
   "execution_count": null,
   "metadata": {
    "collapsed": true
   },
   "outputs": [],
   "source": []
  }
 ],
 "metadata": {
  "kernelspec": {
   "display_name": "Python 2",
   "language": "python",
   "name": "python2"
  },
  "language_info": {
   "codemirror_mode": {
    "name": "ipython",
    "version": 2
   },
   "file_extension": ".py",
   "mimetype": "text/x-python",
   "name": "python",
   "nbconvert_exporter": "python",
   "pygments_lexer": "ipython2",
   "version": "2.7.11"
  }
 },
 "nbformat": 4,
 "nbformat_minor": 0
}
