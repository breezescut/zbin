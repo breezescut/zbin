{
 "cells": [
  {
   "cell_type": "markdown",
   "metadata": {},
   "source": [
    "# Chapter 1 为什么将 Python 用于金融"
   ]
  },
  {
   "cell_type": "markdown",
   "metadata": {},
   "source": [
    "这一章比较有意思的知识点有两个， 一个是介绍用于数值运算的库 numexpr, 一个是介绍如何用 pandas 提供的功能直接在线获取股价信息"
   ]
  },
  {
   "cell_type": "markdown",
   "metadata": {},
   "source": [
    "### numexpr 求算数值表达式\n",
    "\n",
    "numexpr 库接受字符串表达式即可,分析后立即计算。计算速度据说比 Numpy 还要快。并且内建并行单独运算的功能，使我们能够使用一个CPU的所有可用线程。"
   ]
  },
  {
   "cell_type": "code",
   "execution_count": 10,
   "metadata": {
    "collapsed": true
   },
   "outputs": [],
   "source": [
    "import numexpr as ne\n",
    "loops = 25000000\n",
    "a = range(1, loops)"
   ]
  },
  {
   "cell_type": "code",
   "execution_count": 11,
   "metadata": {},
   "outputs": [
    {
     "name": "stdout",
     "output_type": "stream",
     "text": [
      "1 loop, best of 3: 5.38 s per loop\n"
     ]
    }
   ],
   "source": [
    "ne.set_num_threads(4) # 设定可用线程数\n",
    "f = '3 * log(a) + cos(a)**2' # 表达式字符串\n",
    "% timeit r = ne.evaluate(f) # 计算, 用ipython 内置函数 %timeit 进行性能分析"
   ]
  },
  {
   "cell_type": "code",
   "execution_count": 12,
   "metadata": {},
   "outputs": [],
   "source": [
    "r?"
   ]
  },
  {
   "cell_type": "markdown",
   "metadata": {},
   "source": [
    "### Pandas 在线数据获取\n",
    "\n",
    "Pandas 有对接 google财经和Yahoo财经的网络接口， 可直接从网上下载股票数据。\n",
    "本书使用的接口\n"
   ]
  },
  {
   "cell_type": "markdown",
   "metadata": {},
   "source": [
    "# Chapter 2 基础机构和工具"
   ]
  },
  {
   "cell_type": "code",
   "execution_count": null,
   "metadata": {
    "collapsed": true
   },
   "outputs": [],
   "source": []
  }
 ],
 "metadata": {
  "kernelspec": {
   "display_name": "Python 3",
   "language": "python",
   "name": "python3"
  },
  "language_info": {
   "codemirror_mode": {
    "name": "ipython",
    "version": 3
   },
   "file_extension": ".py",
   "mimetype": "text/x-python",
   "name": "python",
   "nbconvert_exporter": "python",
   "pygments_lexer": "ipython3",
   "version": "3.6.1"
  }
 },
 "nbformat": 4,
 "nbformat_minor": 2
}
