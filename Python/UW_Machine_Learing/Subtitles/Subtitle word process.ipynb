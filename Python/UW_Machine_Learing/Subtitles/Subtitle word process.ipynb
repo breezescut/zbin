{
 "cells": [
  {
   "cell_type": "markdown",
   "metadata": {},
   "source": [
    "# Subtitle word process\n",
    "将 华盛顿 机器学习课程的字幕按单词归类好, 自动完成翻译, 做一个简单的字幕字典, 方便看视频之前进行单词熟悉."
   ]
  },
  {
   "cell_type": "code",
   "execution_count": null,
   "metadata": {},
   "outputs": [],
   "source": [
    "import requests\n",
    "import requests\n",
    "import random\n",
    "import hashlib\n",
    "import json\n",
    "\n",
    "def word_classify(context):\n",
    "    word_dict = dict()\n",
    "    for word in context.split(' '):\n",
    "        translate = word_translate(word)\n",
    "        word_dict[word] = 'translate'\n",
    "    return word_dict\n",
    "\n",
    "def word_translate(context):\n",
    "    hl = hashlib.md5()\n",
    "    string = '%s%s%s%s' % (my_appid, context, salt, my_key)\n",
    "    hl.update(string.encode(encoding='utf-8'))\n",
    "    my_sign = hl.hexdigest()\n",
    "    url = 'http://api.fanyi.baidu.com/api/trans/vip/translate'\n",
    "    data = {\n",
    "            'q':context,\n",
    "            'from':'en',\n",
    "            'to':'zh',\n",
    "            'appid':my_appid ,\n",
    "            'salt':salt ,\n",
    "            'sign':my_sign\n",
    "        }\n",
    "    headers ={'User-Agent':'Mozilla/5.0 (Windows NT 6.1; WOW64) AppleWebKit/537.36 (KHTML, like Gecko) Chrome/35.0.1916.153 Safari/537.36 SE 2.X MetaSr 1.0'}\n",
    "    response = requests.post(url,data,headers=headers)\n",
    "    head = response.headers\n",
    " \n",
    "    text = response.text\n",
    "    text = json.loads(text)\n",
    "    dst = text['trans_result'][0]\n",
    "    return dst\n",
    "\n",
    "my_appid = '20180316000136456'\n",
    "my_key = 'ORyUh6TjPHhLyJwX0nog'\n",
    "salt = random.randint(0, 100)\n",
    "\n",
    "def main():\n",
    "    my_dict = {}\n",
    "    while True:\n",
    "        context = input('subtitles input(退出q):')\n",
    "        if context in ['q', 'Q']:\n",
    "            break\n",
    "        else:\n",
    "            print('begin classify')\n",
    "            my_dict = word_classify(context)\n",
    "    for word in my_dict.keys():\n",
    "        print(\"%s: %s\" % (word, my_dict[word]))\n",
    "\n",
    "print('hello')\n",
    "main()"
   ]
  },
  {
   "cell_type": "code",
   "execution_count": null,
   "metadata": {
    "collapsed": true
   },
   "outputs": [],
   "source": []
  },
  {
   "cell_type": "code",
   "execution_count": 6,
   "metadata": {},
   "outputs": [
    {
     "name": "stdout",
     "output_type": "stream",
     "text": [
      "hello\n",
      "请输入翻译的内容(退出q)：hello\n",
      "{'src': 'hello', 'dst': '你好'}\n",
      "你好\n",
      "请输入翻译的内容(退出q)：q\n"
     ]
    }
   ],
   "source": [
    "## 百度翻译测试\n",
    "\n",
    "#encoding=utf-8\n",
    " \n",
    "import requests\n",
    "import random\n",
    "import hashlib\n",
    "import json\n",
    "\n",
    "my_appid = '20180316000136456'\n",
    "my_key = 'ORyUh6TjPHhLyJwX0nog'\n",
    "salt = random.randint(0, 100)\n",
    "\n",
    "def fanyi():\n",
    "    while True:\n",
    "        context = input(\"请输入翻译的内容(退出q)：\")\n",
    " \n",
    "        if context in ['q','Q']:\n",
    "            break\n",
    "        else:\n",
    "            hl = hashlib.md5()\n",
    "            string = '%s%s%s%s' % (my_appid, context, salt, my_key)\n",
    "            hl.update(string.encode(encoding='utf-8'))\n",
    "            my_sign = hl.hexdigest()\n",
    "            url = 'http://api.fanyi.baidu.com/api/trans/vip/translate'\n",
    "            data = {\n",
    "                'q':context,\n",
    "                'from':'en',\n",
    "                'to':'zh',\n",
    "                'appid':my_appid ,\n",
    "                'salt':salt ,\n",
    "                'sign':my_sign\n",
    "            }\n",
    "            headers ={'User-Agent':'Mozilla/5.0 (Windows NT 6.1; WOW64) AppleWebKit/537.36 (KHTML, like Gecko) Chrome/35.0.1916.153 Safari/537.36 SE 2.X MetaSr 1.0'}\n",
    "            response = requests.post(url,data,headers=headers)\n",
    "            head = response.headers\n",
    " \n",
    "            text = response.text\n",
    "            text = json.loads(text)\n",
    "            text = text['trans_result'][0]\n",
    "            print(text)\n",
    "            dst = text['dst']\n",
    "            print(dst)\n",
    "            # res = text['trans_result']['data'][0]['dst']\n",
    "            # print(res)\n",
    "#             print(head['Content-Type'])\n",
    "#             response.\n",
    "#             print(response.json()['trans_result']['data'][0]['dst'])\n",
    "\n",
    "print('hello')\n",
    "fanyi()"
   ]
  },
  {
   "cell_type": "code",
   "execution_count": null,
   "metadata": {
    "collapsed": true
   },
   "outputs": [],
   "source": []
  }
 ],
 "metadata": {
  "kernelspec": {
   "display_name": "Python 3",
   "language": "python",
   "name": "python3"
  },
  "language_info": {
   "codemirror_mode": {
    "name": "ipython",
    "version": 3
   },
   "file_extension": ".py",
   "mimetype": "text/x-python",
   "name": "python",
   "nbconvert_exporter": "python",
   "pygments_lexer": "ipython3",
   "version": "3.6.1"
  }
 },
 "nbformat": 4,
 "nbformat_minor": 2
}
